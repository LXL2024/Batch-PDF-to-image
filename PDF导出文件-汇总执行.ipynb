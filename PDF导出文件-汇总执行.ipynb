{
 "cells": [
  {
   "cell_type": "markdown",
   "id": "f0773526",
   "metadata": {},
   "source": [
    "# 设定参数"
   ]
  },
  {
   "cell_type": "code",
   "execution_count": 3,
   "id": "65d7bc67",
   "metadata": {},
   "outputs": [],
   "source": [
    "from pathlib import Path\n",
    "import fitz\n",
    "# 1、选择要文件所在的文件夹。\n",
    "fold_path=Path(r'C:\\新建文件夹')\n",
    "# 2、选择要匹配的文件类型,默认为pdf类型，本测试文件目前仅支持PDF文件转换。\n",
    "doc_type='pdf'#目前必须为PDF文件。\n",
    "# 3、选择生成图片的缩放比例，默认为1，图片像素为595 x 842像素，分辨率为96dpi\n",
    "zoom_x=3\n",
    "zoom_y=3"
   ]
  },
  {
   "cell_type": "code",
   "execution_count": null,
   "id": "f6dd5966",
   "metadata": {},
   "outputs": [
    {
     "name": "stdout",
     "output_type": "stream",
     "text": [
      "创建文件夹C:\\Users\\lxl41\\Desktop\\新建文件夹\\1. 华为技术有限公司 ISO9001 认证证书-CNAS-中文（QMS-CNAS-CH）证书到期日：2023-5-11（2021-10-22刷新版）\n",
      "成功移动文件1. 华为技术有限公司 ISO9001 认证证书-CNAS-中文（QMS-CNAS-CH）证书到期日：2023-5-11（2021-10-22刷新版）.pdf\n",
      "创建文件夹C:\\Users\\lxl41\\Desktop\\新建文件夹\\5G+煤矿智能化白皮书\n",
      "成功移动文件5G+煤矿智能化白皮书.pdf\n",
      "创建文件夹C:\\Users\\lxl41\\Desktop\\新建文件夹\\APO304210210500096_1146415PO\n",
      "成功移动文件APO304210210500096_1146415PO.pdf\n",
      "创建文件夹C:\\Users\\lxl41\\Desktop\\新建文件夹\\APO304210210500098_1146297PO\n",
      "成功移动文件APO304210210500098_1146297PO.pdf\n",
      "创建文件夹C:\\Users\\lxl41\\Desktop\\新建文件夹\\DBS5900 5G V2B进网证_AAU5243\n",
      "成功移动文件DBS5900 5G V2B进网证_AAU5243.pdf\n",
      "创建文件夹C:\\Users\\lxl41\\Desktop\\新建文件夹\\RHUB5963 概述\n",
      "成功移动文件RHUB5963 概述.pdf\n",
      "创建文件夹C:\\Users\\lxl41\\Desktop\\新建文件夹\\煤矿F5G应用技术白皮书\n",
      "成功移动文件煤矿F5G应用技术白皮书.pdf\n",
      "----------------------------------------------------------------\n",
      "查找fold_path夹下的所有子文件夹\n",
      "[WindowsPath('C:/Users/lxl41/Desktop/新建文件夹/1. 华为技术有限公司 ISO9001 认证证书-CNAS-中文（QMS-CNAS-CH）证书到期日：2023-5-11（2021-10-22刷新版）'), WindowsPath('C:/Users/lxl41/Desktop/新建文件夹/5G+煤矿智能化白皮书'), WindowsPath('C:/Users/lxl41/Desktop/新建文件夹/APO304210210500096_1146415PO'), WindowsPath('C:/Users/lxl41/Desktop/新建文件夹/APO304210210500098_1146297PO'), WindowsPath('C:/Users/lxl41/Desktop/新建文件夹/DBS5900\\xa05G\\xa0V2B进网证_AAU5243'), WindowsPath('C:/Users/lxl41/Desktop/新建文件夹/RHUB5963 概述'), WindowsPath('C:/Users/lxl41/Desktop/新建文件夹/煤矿F5G应用技术白皮书')]\n",
      "----------------------------------------------------------------\n",
      "1\n",
      "在：《C:\\Users\\lxl41\\Desktop\\新建文件夹\\1. 华为技术有限公司 ISO9001 认证证书-CNAS-中文（QMS-CNAS-CH）证书到期日：2023-5-11（2021-10-22刷新版）》文件夹中生成：14张：“1. 华为技术有限公司 ISO9001 认证证书-CNAS-中文（QMS-CNAS-CH）证书到期日：2023-5-11（2021-10-22刷新版）”文件图片，文件放大倍数：3.00\n",
      "2\n"
     ]
    }
   ],
   "source": [
    "# 实现功能：查找path目录下，后缀名为file_suff的文件，在path文件夹下以文件名创建文件夹并把对应文件移动至对应文件夹\n",
    "# path为文件具体路径，类型为str\n",
    "# file_suff为所需匹配的文件类型如pdf\n",
    "# 注意：使用前需要先使用from pathlib import Path命令导入库函数。\n",
    "\n",
    "def create_file_and_move(path,doc_type='pdf'):\n",
    "    dir_path=Path(path)\n",
    "    file_match='*.'+doc_type\n",
    "    file_list=dir_path.glob(file_match)\n",
    "    for x in file_list:\n",
    "        folder_mk =x.parent/x.stem\n",
    "        if folder_mk.is_dir():\n",
    "            print('已有文件夹%s' %folder_mk)\n",
    "            x.replace(folder_mk.joinpath(x.name))\n",
    "            print('成功移动文件%s' %x.name)\n",
    "        else:\n",
    "            folder_mk.mkdir()\n",
    "            print('创建文件夹%s' %folder_mk)\n",
    "            x.replace(folder_mk.joinpath(x.name))\n",
    "            print('成功移动文件%s' %x.name)\n",
    "            \n",
    "# 实现功能：把文件名为pdf_flod的PDF文件，在out_flod文件夹下按页生成类型为jpg的图片，缩放比例默认为1，\n",
    "# out_flod为图片生成的目录。\n",
    "# pdf_flod为PDF文件名称（含后缀）\n",
    "# zoom_x=1,zoom_y=1为x轴，y轴方向的缩放比例，默认为1。\n",
    "def pdf2img(out_flod,pdf_doc,zoom_x=1,zoom_y=1):\n",
    "    doc= fitz.open(pdf_doc)\n",
    "    mat = fitz.Matrix(zoom_x, zoom_y)\n",
    "    for page in doc:\n",
    "        img_name='%s/%s-%i.jpg'%(out_flod,pdf_doc.stem,page.number+1)\n",
    "        pix = page.get_pixmap(matrix=mat)#,alpha=True\n",
    "        pix.save(img_name)\n",
    "    print('在：《%s》文件夹中生成：%i张：“%s”文件图片，文件放大倍数：%.2f'\n",
    "          %(out_flod,page.number+1,pdf_doc.stem,zoom_x))\n",
    "\n",
    "# 4、调用函数，查找fold_path文件夹下的后缀名为doc_type的文件，生成对应的文件夹并把文件移动到文件夹下\n",
    "create_file_and_move(fold_path,doc_type)\n",
    "print('----------------------------------------------------------------')\n",
    "# 5、查找fold_path夹下的所有子文件夹。显示输出的文件夹。\n",
    "sub_fold_path=[x for x in fold_path.iterdir() if x.is_dir()]\n",
    "print('查找fold_path夹下的所有子文件夹')\n",
    "print(sub_fold_path)\n",
    "print('----------------------------------------------------------------')\n",
    "# 6、查找每个子文件下的类型为doc_type的文件。\n",
    "count=0\n",
    "for out_flod in sub_fold_path:\n",
    "    count+=1\n",
    "    print(count)\n",
    "    pdf_files=[y for y in out_flod.iterdir() if y.suffix==('.'+doc_type)]\n",
    "#     print(pdf_files)\n",
    "    for pdf_doc in pdf_files:\n",
    "        pdf2img(out_flod,pdf_doc,zoom_x,zoom_y) \n",
    "print('----------------------------------------------------------------')\n",
    "print('转换完成！！！')"
   ]
  },
  {
   "cell_type": "code",
   "execution_count": null,
   "id": "e1d910e8",
   "metadata": {},
   "outputs": [],
   "source": []
  }
 ],
 "metadata": {
  "kernelspec": {
   "display_name": "Python 3 (ipykernel)",
   "language": "python",
   "name": "python3"
  },
  "language_info": {
   "codemirror_mode": {
    "name": "ipython",
    "version": 3
   },
   "file_extension": ".py",
   "mimetype": "text/x-python",
   "name": "python",
   "nbconvert_exporter": "python",
   "pygments_lexer": "ipython3",
   "version": "3.11.5"
  }
 },
 "nbformat": 4,
 "nbformat_minor": 5
}
